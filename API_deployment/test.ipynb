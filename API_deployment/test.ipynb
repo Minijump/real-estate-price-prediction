{
 "cells": [
  {
   "cell_type": "code",
   "execution_count": 6,
   "metadata": {},
   "outputs": [],
   "source": [
    "import pickle\n",
    "import pandas as pd\n",
    "import xgboost as xgb\n",
    "from sklearn.ensemble import RandomForestRegressor"
   ]
  },
  {
   "cell_type": "code",
   "execution_count": 11,
   "metadata": {},
   "outputs": [
    {
     "name": "stdout",
     "output_type": "stream",
     "text": [
      "[[90, 6637, 4, 0, 0, 2]]\n",
      "215400.0\n"
     ]
    }
   ],
   "source": [
    "data = {\"Living_Area\": 90, \"Type_of_property\": 2, \"Number_of_rooms\": 4, \"Locality\": 6637, \"Swimming_pool\": 0, \"Swimming_pool_was_missing\": 0}\n",
    "xgb_model = pickle.load(open(r'.\\model\\model.pkl', \"rb\"))\n",
    "\n",
    "#create a dataframe from the dictionnary given in argument\n",
    "df = pd.DataFrame.from_dict(data, orient='index').T\n",
    "df.sort_index(axis=1, inplace=True)\n",
    "print(df.values.tolist())\n",
    "#predict the price\n",
    "price = xgb_model.predict(df)[0]\n",
    "print(price)"
   ]
  }
 ],
 "metadata": {
  "kernelspec": {
   "display_name": "base",
   "language": "python",
   "name": "python3"
  },
  "language_info": {
   "codemirror_mode": {
    "name": "ipython",
    "version": 3
   },
   "file_extension": ".py",
   "mimetype": "text/x-python",
   "name": "python",
   "nbconvert_exporter": "python",
   "pygments_lexer": "ipython3",
   "version": "3.8.15"
  },
  "orig_nbformat": 4,
  "vscode": {
   "interpreter": {
    "hash": "0f66cd9ad0777bc17179f6d9a5c791b0acf8097b82eccc9c94eb1698b8808af3"
   }
  }
 },
 "nbformat": 4,
 "nbformat_minor": 2
}
