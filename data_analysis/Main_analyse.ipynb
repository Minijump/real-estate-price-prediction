{
 "cells": [
  {
   "cell_type": "markdown",
   "id": "4c306f7c-fb62-45b3-a956-0852470b2dd2",
   "metadata": {},
   "source": [
    "# CREATE MAIN CSV"
   ]
  },
  {
   "cell_type": "markdown",
   "id": "eda9d703-17a0-4bd5-a8a5-d798728db610",
   "metadata": {},
   "source": [
    "This part create a new CSV file from all the data we collected during the scrapping part. These datas will be a bit more clean (lines with price = nan are dropped,...) but tthe data is still extremmely raw."
   ]
  },
  {
   "cell_type": "markdown",
   "id": "fd9e9c0c-cba0-47cf-9b68-e0d847a5b5c1",
   "metadata": {},
   "source": [
    "# CORRELATION RAW"
   ]
  },
  {
   "cell_type": "markdown",
   "id": "228f91c1-043b-4637-ad3b-434b4008e2d5",
   "metadata": {},
   "source": [
    "This file plots a graph representing the correlation between the numerical data in the raw csv just created, we won't analyse it now."
   ]
  },
  {
   "cell_type": "markdown",
   "id": "c162df84-9f00-40f0-a20b-23d4c427d824",
   "metadata": {},
   "source": [
    "# VARIABLE ON PRICE"
   ]
  },
  {
   "cell_type": "markdown",
   "id": "48423b89-345d-4989-a071-3b61b4c562ad",
   "metadata": {},
   "source": [
    "This part annalyse the effect of every variables(except subtype of property) on the price, these files are \"drafts\",  going through them could be confusing, here is the main results I got from this first analysis (these conclusions will be used to re-clean the data)"
   ]
  },
  {
   "cell_type": "code",
   "execution_count": 2,
   "id": "4c2cd186-1392-4b26-954d-4a27594fba9e",
   "metadata": {},
   "outputs": [],
   "source": [
    "#plt.savefig(r'.\\images\\num_facades.jpg')\n",
    "#<img title=\"Effect of the number of facades on the price\" alt=\"effect number facades\" src=\"./variable_on_price/images/num_facades.jpg\">"
   ]
  },
  {
   "cell_type": "markdown",
   "id": "f5def944-2dcd-4179-843d-093de10b218f",
   "metadata": {},
   "source": [
    "### Number of facade"
   ]
  },
  {
   "cell_type": "markdown",
   "id": "60b0c53c-cd44-4377-8f16-5b6f51f0fcdd",
   "metadata": {},
   "source": [
    "<img title=\"Effect of the number of facades on the price\" alt=\"effect number facades\" src=\"./variable_on_price/images/num_facades.jpg\">"
   ]
  },
  {
   "cell_type": "markdown",
   "id": "06f19b1f-f7b7-476d-be52-6515a15023fe",
   "metadata": {},
   "source": [
    "We see that the graph has a strange beheviour for the number 5 and 6, after analysis I noticed that there are only 3 properties with these numbers. In consequence I will delete the lines where $$Number\\_of\\_facades > 4$$"
   ]
  },
  {
   "cell_type": "markdown",
   "id": "f550a1ae-d3e8-42a8-94d0-38afdaeaa056",
   "metadata": {},
   "source": [
    "### Number of rooms"
   ]
  },
  {
   "cell_type": "markdown",
   "id": "abec65ed-b927-4c00-99d3-f24300d16177",
   "metadata": {},
   "source": [
    "<img title=\"Effect of the number of rooms on the price\" alt=\"effect number rooms\" src=\"./variable_on_price/images/num_rooms.jpg\"> "
   ]
  },
  {
   "cell_type": "markdown",
   "id": "16af91c2-1df3-47eb-9501-21112dcf857c",
   "metadata": {},
   "source": [
    "For number of rooms $\\epsilon [0,7]$ we see progressive behaviour, after that it begins to be more strange. the numbers of properties wher number of rooms is greater than 7 is 224. In xonsequence I have decided to delete all lines where: $$numbers\\_of\\_rooms > 7 $$ "
   ]
  },
  {
   "cell_type": "markdown",
   "id": "b7e723c1-1070-4005-95d4-fd109779a6d6",
   "metadata": {},
   "source": [
    "### Type of Sale"
   ]
  },
  {
   "cell_type": "markdown",
   "id": "2625d306-74b5-40b7-85f7-055f62c00496",
   "metadata": {},
   "source": [
    "98.8% of the type of sale are \"residential sale\", the remaining 1.2% is shared by 'annuity_without_lump_sum', 'annuity_monthly_amount' and 'first_session_with_reserve_price'. Those last 3 will be deleted, comparing monthly annuity with a global value has no logic. Residential sale being the only remaining value, this collumn will be deleted the make the end of the analyse easier"
   ]
  },
  {
   "cell_type": "markdown",
   "id": "778f5f05-005d-4b9a-9af8-1ae9c3534cd5",
   "metadata": {},
   "source": [
    "### Equipped kitchen"
   ]
  },
  {
   "cell_type": "markdown",
   "id": "482eae4d-8fb9-40ed-ba62-4fb44827f584",
   "metadata": {},
   "source": [
    "<img title=\"Effect of the type of kitchen on the price\" alt=\"effect kitchen\" src=\"./variable_on_price/images/kitchen.jpg\">"
   ]
  },
  {
   "cell_type": "markdown",
   "id": "89c12d39-2c0b-4259-bc83-fdbff64401de",
   "metadata": {},
   "source": [
    "The previous graph show us the effect of the kitchen on the price. We see that USA_UNINTALLED has a strange value as it is higher than USA_INSTALLED. This can be caused by the fact that there is only 7 properties with an USA_UNINSTALLED kitchen. It is not tthe only strange behaviour this graph has(see NAN), I wont go deeper in the analyse of it."
   ]
  },
  {
   "cell_type": "markdown",
   "id": "ee665834-c14e-4621-a8bf-3d2c889e87b0",
   "metadata": {},
   "source": [
    "### Surface area of the plot of the land"
   ]
  },
  {
   "cell_type": "markdown",
   "id": "f4abf607-a21f-4101-8aef-f428078b0dcb",
   "metadata": {},
   "source": [
    "<img title=\"surface area plot land in function of garden area\" alt=\"plot land and garden area\" src=\"./variable_on_price/images/plot_land.jpg\">"
   ]
  },
  {
   "cell_type": "markdown",
   "id": "3fb12ef0-e9f4-4360-a648-2eaf9cb3d78c",
   "metadata": {},
   "source": [
    "We see there that the surface area of the plot of the land is highly correlated to the garden area, in consequence I will drop the collumn surface area of the plot of the land."
   ]
  },
  {
   "cell_type": "markdown",
   "id": "91a3aa48-11b9-464e-ac38-f9da0335423e",
   "metadata": {},
   "source": [
    "### making those changes:"
   ]
  },
  {
   "cell_type": "code",
   "execution_count": 6,
   "id": "ff748b7b-df88-40ac-aefd-64100ade0953",
   "metadata": {},
   "outputs": [],
   "source": [
    "import os\n",
    "import warnings\n",
    "import pandas as pd"
   ]
  },
  {
   "cell_type": "code",
   "execution_count": 7,
   "id": "18d0d742-4d3e-4a82-a8b6-a2d67dba33a9",
   "metadata": {},
   "outputs": [],
   "source": [
    "#panda data frame containing every infos\n",
    "col_names =  [\"Locality\",     \n",
    "              \"Type_of_property\",\n",
    "              \"Subtype_of_property\",\n",
    "              \"Price\",\n",
    "              \"Type_of_sale\",\n",
    "              \"Number_of_rooms\",\n",
    "              \"Living_Area\",\n",
    "              \"Fully_equipped_kitchen\",\n",
    "              \"Furnished\",\n",
    "              \"Open_fire\",\n",
    "              \"Terrace\",\n",
    "              \"Terrace_Area\",\n",
    "              \"Garden\",\n",
    "              \"Garden_Area\",\n",
    "              \"Surface_area_of_the_plot_of_land\",\n",
    "              \"Number_of_facades\",\n",
    "              \"Swimming_pool\",\n",
    "              \"State_of_the_building\"\n",
    "              ]\n",
    "df_final  = pd.DataFrame(columns = col_names)\n",
    "file_path = r\"C:\\Users\\Sacha\\Documents\\BeCode\\real-estate-price-prediction\\data_analysis\\main_csv.csv\" \n",
    "df_final = pd.read_csv(file_path)"
   ]
  },
  {
   "cell_type": "code",
   "execution_count": 8,
   "id": "09ff6479-90d3-4abe-8df9-8542905869a9",
   "metadata": {},
   "outputs": [],
   "source": [
    "#keep only number of facades <=4\n",
    "df_final = df_final[df_final[\"Number_of_facades\"] < 5]\n",
    "\n",
    "#keep only number of rooms <=7\n",
    "df_final = df_final[df_final[\"Number_of_rooms\"] < 8]\n",
    "\n",
    "#delete the collumn type of sale\n",
    "df_final = df_final[df_final[\"Type_of_sale\"] == 'residential_sale']\n",
    "del df_final[\"Type_of_sale\"]\n",
    "\n",
    "#delete the column equipped kitchen\n",
    "del df_final[\"Fully_equipped_kitchen\"]\n",
    "\n",
    "#delete the column Surface_area_of_the_plot_of_land\n",
    "del df_final[\"Surface_area_of_the_plot_of_land\"]\n",
    "\n",
    "#I will try to focus on comparing the living area and the price, that is why I will:\n",
    "#delete the Furnished collumn which do not seem to have any interest, and the Subtype_of_property\n",
    "del df_final[\"Furnished\"]\n",
    "del df_final[\"Subtype_of_property\"]\n",
    "\n",
    "#delete the collumns Garden and Terrace and writte 0 for all NAN in garden_area and terrace_area\n",
    "del df_final[\"Garden\"]\n",
    "df_final[\"Garden_Area\"] = df_final[\"Garden_Area\"].fillna(0)\n",
    "\n",
    "del df_final[\"Terrace\"]\n",
    "df_final[\"Terrace_Area\"] = df_final[\"Terrace_Area\"].fillna(0)\n",
    "\n",
    "# and finally delete the lines where living area in NAN\n",
    "df_final = df_final.dropna(subset=['Living_Area'])\n",
    "\n",
    "#save the new CSV file I will work on\n",
    "df_final.to_csv('analyse_csv.csv', index = False)"
   ]
  },
  {
   "cell_type": "code",
   "execution_count": 9,
   "id": "c49f2e30-00b2-4c8f-9873-45a391d7ec19",
   "metadata": {},
   "outputs": [
    {
     "data": {
      "text/plain": [
       "(11717, 11)"
      ]
     },
     "execution_count": 9,
     "metadata": {},
     "output_type": "execute_result"
    }
   ],
   "source": [
    "df_final.shape"
   ]
  },
  {
   "cell_type": "markdown",
   "id": "f1743464-75c2-428e-89ed-3a69e5451c69",
   "metadata": {},
   "source": [
    "# AREA ANALYSE"
   ]
  },
  {
   "cell_type": "markdown",
   "id": "d35dee07-9a5c-4232-9bab-ecd98e4c90aa",
   "metadata": {},
   "source": [
    "This part will show my analyse of the impact of the living area on the price, you can find all the codes in the area_analyse folder, and here are my conclusions:"
   ]
  },
  {
   "cell_type": "markdown",
   "id": "5387cc13-022d-4bd6-a42f-e963d95d4258",
   "metadata": {},
   "source": [
    "* In the previous section I got this graph, this graph representing the price in function of the living area, it is hard to read and we do not see any links between the 2 variables."
   ]
  },
  {
   "cell_type": "markdown",
   "id": "366e2a47-6906-4508-a375-9bb93a5fd5f7",
   "metadata": {},
   "source": [
    "<div style=\"text-align: center;\">\n",
    "<img title=\"Effect of the living area on the price\" alt=\"effect living area\" src=\"./variable_on_price/images/liv_area.jpg\">\n",
    "</div>"
   ]
  },
  {
   "cell_type": "markdown",
   "id": "6ed1f99f-454c-4943-9ce9-9ae2224aa1ea",
   "metadata": {},
   "source": [
    "* This seems normal as differents localities have different prices per square metter as shown in the following graphs:"
   ]
  },
  {
   "cell_type": "markdown",
   "id": "ff73c7b7-7fab-4f92-8733-a3a411190826",
   "metadata": {},
   "source": [
    "<img title=\"price per locality\" alt=\"price per locality\" src=\"./area_analyse/images/high_price.jpg\">"
   ]
  },
  {
   "cell_type": "markdown",
   "id": "321a36dc-e75e-4d79-b42d-b5e6b058cd20",
   "metadata": {},
   "source": [
    "<img title=\"low price per locality\" alt=\"low price per locality\" src=\"./area_analyse/images/low_price.jpg\">"
   ]
  },
  {
   "cell_type": "markdown",
   "id": "89e8e673-d919-4753-a4f3-cf126deb04ca",
   "metadata": {},
   "source": [
    "* __Firstly__ I want to notice that the __locality 8300__ has a price which is by far the greatest. It is also by far the locality which is the most represented in the data I should then be carefull that this locality does not introduce any errors.  \n",
    "* __Then__, we see that the price per square meter can change by a factor 50 in function of the locality. "
   ]
  },
  {
   "cell_type": "markdown",
   "id": "40551edd-f4e0-4ce9-ba8c-a436d9d2c895",
   "metadata": {},
   "source": [
    "I decided to plot the price in function of the living area for 10 localities, here is the result:\n",
    "(fainted colour = confidence intervalle)"
   ]
  },
  {
   "cell_type": "markdown",
   "id": "42ac0fe0-5bd3-4568-adc8-2710fc319e77",
   "metadata": {},
   "source": [
    "<div style=\"text-align: center;\">\n",
    "<img title=\"Effect of the number of facades on the price\" alt=\"effect number facades\" src=\"./area_analyse/images/liv_area_diff_loc.jpg\">\n",
    "</div>"
   ]
  },
  {
   "cell_type": "markdown",
   "id": "c0daf68c-5420-4908-9aec-08b4860e2eec",
   "metadata": {},
   "source": [
    "We see that, at least for the 10 localities tested, there is a high correlation between the living area and the price. Obviously the problem here is to make any sort of conlusions on 10 localities while we have nearly 900 of them.\n",
    "To be able to compare all those 900 localties I had to find a way to 'delete' this price per square meter, here is how I proceded:\n",
    "* compute the median price per square meter for each localities\n",
    "* delete the outliers of \"Living area\"\n",
    "* for each properties compute the 'suppose living area' based on the property price and the price per square meter of its locality\n",
    "* for each unique living area take one random line (this step is to make the graph more readable, keep it mind that the graph still doesn't represent the whole data)\n",
    "* plot those 'suppose living area' in function of the real living area of the property\n",
    "* you can find the code of this in the file supposed_are.ipynb\n",
    "\n",
    "This will give us a graph where all localities can be represented. The more the dots (and the linear regression) will be close to the reference line y=x the more the Living_Area is a good estimator of the price (if we have the price per square meter of tthe locality)."
   ]
  },
  {
   "cell_type": "markdown",
   "id": "4d3d0a6a-e347-4077-a7c6-957a19521703",
   "metadata": {},
   "source": [
    "<div style=\"text-align: center;\">\n",
    "<img title=\"supposed area in function of the real living area\" alt=\"supposed area\" src=\"./area_analyse/images/supposed_area.png\">\n",
    "</div>"
   ]
  },
  {
   "cell_type": "markdown",
   "id": "3edc14bd-0728-48b8-bcca-280b402d73dc",
   "metadata": {},
   "source": [
    "For the data used the linear regression is close to the line y=x, however there is still a great variation of supposed living area in the squattered dots.\n",
    "* dots __above__ the line y=x are properties which have less living area than they should have based on their price and their locality's price per square meter. It could be caused by a good state of the building, the presence of a swimming pool,...\n",
    "* dots __under__ the line y=x are properties which have more living area than they should have based on their price and their locality's price per square meter"
   ]
  },
  {
   "cell_type": "markdown",
   "id": "4af52aac-f1f4-48c2-adcd-2b27ba11c437",
   "metadata": {},
   "source": [
    "While I was testing the impact of each variable on the price, state of the building seemed to have a direct impact on the price of a property, as we can see on the following graph:\n",
    "<div style=\"text-align: center;\">\n",
    "<img title=\"supposed area in function of the real living area\" alt=\"supposed area\" src=\"./variable_on_price/images/state_building.png\">\n",
    "</div>"
   ]
  },
  {
   "cell_type": "markdown",
   "id": "a99df57b-fb66-48a9-a633-714392642fb4",
   "metadata": {},
   "source": [
    "It is now possible to 'merge' these 2 graphs together."
   ]
  },
  {
   "cell_type": "markdown",
   "id": "caf541af-04d8-4fb3-a67c-4a6161294797",
   "metadata": {},
   "source": [
    "<div style=\"text-align: center;\">\n",
    "<img title=\"supposed area in function of the real living area with state of tthe building\" alt=\"supposed area state building\" src=\"./area_analyse/images/supposed_area_state_building.png\">\n",
    "</div>"
   ]
  },
  {
   "cell_type": "markdown",
   "id": "839c180e-2e67-415f-a5c1-c003d0b0b58c",
   "metadata": {},
   "source": [
    "### I will do now the same procedure with the price"
   ]
  },
  {
   "cell_type": "markdown",
   "id": "8adc9685-9643-46d2-b75b-2810600794bd",
   "metadata": {},
   "source": [
    "<div style=\"text-align: center;\">\n",
    "<img title=\"supposed price in function of the real price\" alt=\"supposed price\" src=\"./area_analyse/images/supposed_price.png\">\n",
    "</div>"
   ]
  },
  {
   "cell_type": "markdown",
   "id": "89b207f0-b1da-499f-ba1b-6cf47aa64f7a",
   "metadata": {},
   "source": [
    "* dots __above__ the line y=x are properties which have a real price lower than expected, it can be caused by a huge propery which has to be renoved\n",
    "* dots __under__ the line y=x are properties which havea real price higher than expected, it can be caused by a property which is as new,..."
   ]
  },
  {
   "cell_type": "markdown",
   "id": "52f46834-c616-4af2-a8a1-69ff977f006a",
   "metadata": {},
   "source": [
    "The linear regression has nearly the same slope as the reference line y=x. This is logic as we use tthe same data to plot the graph, compute the supposed price, and compute the prie per square meter. We should than use a sample of the data to computer the price(80% in my case) per square meter and than try this graph for the rest of the data. Here is the result:"
   ]
  },
  {
   "cell_type": "markdown",
   "id": "fdeac92a-e1ad-4895-a703-9011b63b6b93",
   "metadata": {},
   "source": [
    "<div style=\"text-align: center;\">\n",
    "<img title=\"price prediction\" alt=\"price prediction\" src=\"./area_analyse/images/prediction_price.png\">\n",
    "</div>"
   ]
  },
  {
   "cell_type": "code",
   "execution_count": null,
   "id": "99893299-0dd7-48b2-bd3f-8af178975f9f",
   "metadata": {},
   "outputs": [],
   "source": []
  }
 ],
 "metadata": {
  "kernelspec": {
   "display_name": "Python 3 (ipykernel)",
   "language": "python",
   "name": "python3"
  },
  "language_info": {
   "codemirror_mode": {
    "name": "ipython",
    "version": 3
   },
   "file_extension": ".py",
   "mimetype": "text/x-python",
   "name": "python",
   "nbconvert_exporter": "python",
   "pygments_lexer": "ipython3",
   "version": "3.8.15"
  }
 },
 "nbformat": 4,
 "nbformat_minor": 5
}
