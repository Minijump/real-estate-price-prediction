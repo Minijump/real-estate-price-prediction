{
 "cells": [
  {
   "cell_type": "markdown",
   "id": "4c306f7c-fb62-45b3-a956-0852470b2dd2",
   "metadata": {},
   "source": [
    "# Create main CSV"
   ]
  },
  {
   "cell_type": "markdown",
   "id": "eda9d703-17a0-4bd5-a8a5-d798728db610",
   "metadata": {},
   "source": [
    "This part create a new CSV file from all the data we collected during the scrapping part. These datas will be a bit more clean (lines with price = nan are dropped,...) but tthe data is still extremmely raw."
   ]
  },
  {
   "cell_type": "markdown",
   "id": "fd9e9c0c-cba0-47cf-9b68-e0d847a5b5c1",
   "metadata": {},
   "source": [
    "# correlation_raw"
   ]
  },
  {
   "cell_type": "markdown",
   "id": "228f91c1-043b-4637-ad3b-434b4008e2d5",
   "metadata": {},
   "source": [
    "This file plots a graph representing the correlation between the numerical data in the raw csv just created"
   ]
  },
  {
   "cell_type": "markdown",
   "id": "c162df84-9f00-40f0-a20b-23d4c427d824",
   "metadata": {},
   "source": [
    "# variable_on_price"
   ]
  },
  {
   "cell_type": "markdown",
   "id": "48423b89-345d-4989-a071-3b61b4c562ad",
   "metadata": {},
   "source": [
    "This part annalyse the effect of every variables(except subtype of property) on the price, these files are \"draft\"  going through them could be confusing, here is the main results I got from this first analysis (these conclusions will be used to re-clean the data)"
   ]
  },
  {
   "cell_type": "code",
   "execution_count": null,
   "id": "eacd3482-517d-44a1-afc8-7382c916b6fe",
   "metadata": {},
   "outputs": [],
   "source": []
  }
 ],
 "metadata": {
  "kernelspec": {
   "display_name": "Python 3 (ipykernel)",
   "language": "python",
   "name": "python3"
  },
  "language_info": {
   "codemirror_mode": {
    "name": "ipython",
    "version": 3
   },
   "file_extension": ".py",
   "mimetype": "text/x-python",
   "name": "python",
   "nbconvert_exporter": "python",
   "pygments_lexer": "ipython3",
   "version": "3.8.15"
  }
 },
 "nbformat": 4,
 "nbformat_minor": 5
}
