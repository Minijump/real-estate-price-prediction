{
 "cells": [
  {
   "cell_type": "markdown",
   "id": "940ab674-b43f-4347-ac13-11e5da8d46b9",
   "metadata": {},
   "source": [
    "This file will create a new csv file with all zip codes an their median price per squarre metter "
   ]
  },
  {
   "cell_type": "code",
   "execution_count": 2,
   "id": "29d902b1-a10e-4948-b605-3bd489a4f852",
   "metadata": {},
   "outputs": [],
   "source": [
    "import os\n",
    "import warnings\n",
    "import pandas as pd\n",
    "\n",
    "import matplotlib as mpl\n",
    "import matplotlib.pyplot as plt\n",
    "\n",
    "col_names =  [\"Locality\",     \n",
    "              \"Type_of_property\",\n",
    "              \"Price\",\n",
    "              \"Number_of_rooms\",\n",
    "              \"Living_Area\",\n",
    "              \"Open_fire\",\n",
    "              \"Terrace_Area\",\n",
    "              \"Garden_Area\",\n",
    "              \"Number_of_facades\",\n",
    "              \"Swimming_pool\",\n",
    "              \"State_of_the_building\"\n",
    "              ]\n",
    "\n",
    "file_path = r\"C:\\Users\\Sacha\\Documents\\BeCode\\real-estate-price-prediction\\data_analysis\\analyse_csv.csv\" \n",
    "df_final = pd.read_csv(file_path)"
   ]
  },
  {
   "cell_type": "code",
   "execution_count": 3,
   "id": "5bc09781-e346-4bc4-be40-6e5bb3f66159",
   "metadata": {},
   "outputs": [],
   "source": [
    "area = df_final[\"Living_Area\"]# + df_final[\"Terrace_Area\"] + df_final[\"Garden_Area\"]\n",
    "df_final[\"Median_Price_Squared_Meter\"] = df_final[\"Price\"] / area\n",
    "median_price_meter = df_final.groupby(\"Locality\")[\"Median_Price_Squared_Meter\"].median()\n",
    "median_price_meter.to_csv('square_meter_csv.csv')"
   ]
  }
 ],
 "metadata": {
  "kernelspec": {
   "display_name": "base",
   "language": "python",
   "name": "python3"
  },
  "language_info": {
   "codemirror_mode": {
    "name": "ipython",
    "version": 3
   },
   "file_extension": ".py",
   "mimetype": "text/x-python",
   "name": "python",
   "nbconvert_exporter": "python",
   "pygments_lexer": "ipython3",
   "version": "3.8.15 (default, Nov 24 2022, 14:38:14) [MSC v.1916 64 bit (AMD64)]"
  },
  "vscode": {
   "interpreter": {
    "hash": "0f66cd9ad0777bc17179f6d9a5c791b0acf8097b82eccc9c94eb1698b8808af3"
   }
  }
 },
 "nbformat": 4,
 "nbformat_minor": 5
}
