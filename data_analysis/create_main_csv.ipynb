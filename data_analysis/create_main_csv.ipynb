{
 "cells": [
  {
   "cell_type": "markdown",
   "id": "45466930-4154-4b41-9951-940ee59aa480",
   "metadata": {},
   "source": [
    "# Creation of the CSV I will work on\n",
    "The first step of the analysis will be to create one main csv from all the csv we got during the scrapping part. From now on we will work on this main_csv. In this file we will also make a first cleaning of the CSV:\n",
    "* collumns full of 'none' are deleted (Surface_of_the_land)\n",
    "* lines full of 'none' are deleted\n",
    "* delete the lines without price (we will compare price in function of the differennt variables) \n",
    "* delete the id of the collumn (converting from dataframe to csv we saved the id of the line, we do not need it)\n",
    "* remove duplicates"
   ]
  },
  {
   "cell_type": "code",
   "execution_count": 151,
   "id": "a28d96c7-4109-4019-8790-4f7fcce59618",
   "metadata": {},
   "outputs": [],
   "source": [
    "import os\n",
    "import warnings\n",
    "import pandas as pd"
   ]
  },
  {
   "cell_type": "code",
   "execution_count": 152,
   "id": "b0f2e40c-d594-4c6a-a948-cf07ee5bd893",
   "metadata": {},
   "outputs": [],
   "source": [
    "#panda data frame containing every infos\n",
    "col_names =  [\"Locality\",     \n",
    "              \"Type_of_property\",\n",
    "              \"Subtype_of_property\",\n",
    "              \"Price\",\n",
    "              \"Type_of_sale\",\n",
    "              \"Number_of_rooms\",\n",
    "              \"Living_Area\",\n",
    "              \"Fully_equipped_kitchen\",\n",
    "              \"Furnished\",\n",
    "              \"Open_fire\",\n",
    "              \"Terrace\",\n",
    "              \"Terrace_Area\",\n",
    "              \"Garden\",\n",
    "              \"Garden_Area\",\n",
    "              \"Surface_of_the_land\",\n",
    "              \"Surface_area_of_the_plot_of_land\",\n",
    "              \"Number_of_facades\",\n",
    "              \"Swimming_pool\",\n",
    "              \"State_of_the_building\"\n",
    "              ]\n",
    "df_final  = pd.DataFrame(columns = col_names)"
   ]
  },
  {
   "cell_type": "code",
   "execution_count": 153,
   "id": "8105f0e9-74f8-4822-9077-90e1740576ac",
   "metadata": {},
   "outputs": [],
   "source": [
    "def save_df():\n",
    "    \"\"\"\n",
    "    save tthe global df into a csv\n",
    "    \"\"\"\n",
    "    global df_final\n",
    "    df_final.to_csv('main_csv.csv', index = False)"
   ]
  },
  {
   "cell_type": "code",
   "execution_count": 154,
   "id": "9dcc8097-5f94-4f46-b3ef-996e70cdc236",
   "metadata": {},
   "outputs": [],
   "source": [
    "def create_df():\n",
    "    \"\"\"\n",
    "    create a dataframe from all the csv we created\n",
    "    \"\"\"\n",
    "    # List all files in the directory\n",
    "    global df_final\n",
    "    df_final  = pd.DataFrame(columns = col_names)\n",
    "    \n",
    "    #path = \"./all_csv\"\n",
    "    path = r\"C:\\Users\\Sacha\\Documents\\BeCode\\real-estate-price-prediction\\data_acquisition\\all_csv\"\n",
    "    files = os.listdir(path)\n",
    "\n",
    "    for file in files:\n",
    "        if os.path.isfile(os.path.join(path, file)):\n",
    "            file_path = r\"C:\\Users\\Sacha\\Documents\\BeCode\\real-estate-price-prediction\\data_acquisition\\all_csv\\\\\" + file\n",
    "            file_df = pd.read_csv(file_path)\n",
    "            with warnings.catch_warnings():   #warnings from panda because columns with only bool\n",
    "                warnings.simplefilter(\"ignore\")\n",
    "                df_final = pd.concat([df_final, file_df])"
   ]
  },
  {
   "cell_type": "code",
   "execution_count": 155,
   "id": "418d663f-8ad0-4732-a46e-ae55c3b1b033",
   "metadata": {},
   "outputs": [],
   "source": [
    "def first_clean_df():\n",
    "    \"\"\"\n",
    "    this function clean the data a first time\n",
    "    \"\"\"\n",
    "    global df_final\n",
    "    #remove the useless collumn\n",
    "    del df_final['Surface_of_the_land']\n",
    "   \n",
    "    #drop lines full of nan\n",
    "    df_final = df_final.dropna(how='all')\n",
    "    \n",
    "    #this collumn is the indexes of the dataframe collumn (too much)\n",
    "    df_final = df_final.drop(df_final.columns[-1],axis=1)\n",
    "    \n",
    "    #this line will drop lines where Price is missing\n",
    "    df_final = df_final.dropna(subset=['Price'])\n",
    "    \n",
    "    #remove_duplicates\n",
    "    df_final = df_final.drop_duplicates()"
   ]
  },
  {
   "cell_type": "code",
   "execution_count": 156,
   "id": "ac15f096-a09b-4305-93bd-1f0c0b4b17db",
   "metadata": {},
   "outputs": [],
   "source": [
    "create_df()\n",
    "first_clean_df()\n",
    "save_df()"
   ]
  },
  {
   "cell_type": "markdown",
   "id": "6886f678-f78e-4833-996c-6e5b93ac81ba",
   "metadata": {},
   "source": [
    "# Overall analysis"
   ]
  },
  {
   "cell_type": "code",
   "execution_count": 157,
   "id": "36d79b8f-8e5b-4b4b-b18d-69763cd1cb3c",
   "metadata": {},
   "outputs": [],
   "source": [
    "col_names =  [\"Locality\",     \n",
    "              \"Type_of_property\",\n",
    "              \"Subtype_of_property\",\n",
    "              \"Price\",\n",
    "              \"Type_of_sale\",\n",
    "              \"Number_of_rooms\",\n",
    "              \"Living_Area\",\n",
    "              \"Fully_equipped_kitchen\",\n",
    "              \"Furnished\",\n",
    "              \"Open_fire\",\n",
    "              \"Terrace\",\n",
    "              \"Terrace_Area\",\n",
    "              \"Garden\",\n",
    "              \"Garden_Area\",\n",
    "              \"Surface_area_of_the_plot_of_land\",\n",
    "              \"Number_of_facades\",\n",
    "              \"Swimming_pool\",\n",
    "              \"State_of_the_building\"\n",
    "              ]\n",
    "\n",
    "file_path = r\".\\main_csv.csv\"\n",
    "df_final = pd.read_csv(file_path)"
   ]
  },
  {
   "cell_type": "markdown",
   "id": "88b9ea26-2f37-4e54-bdf2-34b17916dce9",
   "metadata": {},
   "source": [
    "### number of entries"
   ]
  },
  {
   "cell_type": "code",
   "execution_count": 158,
   "id": "b89ed4df-c75e-4287-a622-93d6d9b23d41",
   "metadata": {},
   "outputs": [
    {
     "name": "stdout",
     "output_type": "stream",
     "text": [
      "lines: 16647\n",
      "columns: 18\n"
     ]
    }
   ],
   "source": [
    "num_lines = df_final.shape[0]\n",
    "num_collumns = df_final.shape[1]\n",
    "print(\"lines:\", num_lines)\n",
    "print(\"columns:\", num_collumns)"
   ]
  },
  {
   "cell_type": "markdown",
   "id": "bf32c3ee-b01d-4b18-8221-5eaaff9d8871",
   "metadata": {},
   "source": [
    "### unique values"
   ]
  },
  {
   "cell_type": "code",
   "execution_count": 159,
   "id": "741eda03-b288-42f3-bda1-b9a12eaf98d9",
   "metadata": {},
   "outputs": [
    {
     "name": "stdout",
     "output_type": "stream",
     "text": [
      "numbers of unique values for each columns\n",
      "Type_of_property ['APARTMENT' 'HOUSE']\n",
      "-------------------------------------\n",
      "Type_of_sale ['residential_sale' 'first_session_with_reserve_price'\n",
      " 'annuity_monthly_amount' 'annuity_without_lump_sum']\n",
      "-------------------------------------\n",
      "Fully_equipped_kitchen ['USA_HYPER_EQUIPPED' 'NOT_INSTALLED' nan 'INSTALLED' 'HYPER_EQUIPPED'\n",
      " 'SEMI_EQUIPPED' 'USA_INSTALLED' 'USA_SEMI_EQUIPPED' 'USA_UNINSTALLED']\n",
      "-------------------------------------\n",
      "Furnished [False nan True]\n",
      "-------------------------------------\n",
      "Open_fire [False  True]\n",
      "-------------------------------------\n",
      "Terrace [True nan]\n",
      "-------------------------------------\n",
      "Garden [nan True]\n",
      "-------------------------------------\n",
      "Number_of_facades [ 4. nan  2.  3.  1.  6.  5.]\n",
      "-------------------------------------\n",
      "Swimming_pool [nan False True]\n",
      "-------------------------------------\n",
      "State_of_the_building [nan 'AS_NEW' 'JUST_RENOVATED' 'TO_RESTORE' 'GOOD' 'TO_RENOVATE'\n",
      " 'TO_BE_DONE_UP']\n",
      "-------------------------------------\n"
     ]
    }
   ],
   "source": [
    "print(\"numbers of unique values for each columns\")\n",
    "for column in col_names:\n",
    "    unique = df_final[column].unique()\n",
    "    if len(unique)>10:\n",
    "        #print(column, \">10\")\n",
    "        continue\n",
    "    else:\n",
    "        print(column, df_final[column].unique())\n",
    "        print(\"-------------------------------------\")\n",
    "        \n",
    "#maison 6 facades???"
   ]
  },
  {
   "cell_type": "markdown",
   "id": "d42b026b-dffc-4dad-b0e5-798318aa4c99",
   "metadata": {},
   "source": [
    "We can notice here that there are no more \"group_appartment\" and \"group_house\", their price were never given"
   ]
  },
  {
   "cell_type": "markdown",
   "id": "7e1a6208-2451-4e96-a5e8-efcad68c0c2e",
   "metadata": {},
   "source": [
    "### % of missing entries"
   ]
  },
  {
   "cell_type": "code",
   "execution_count": 149,
   "id": "0b8b5bc9-6d2c-4d8e-a6a2-c8b2b117ca58",
   "metadata": {},
   "outputs": [
    {
     "name": "stdout",
     "output_type": "stream",
     "text": [
      "percentage of missing values for each columns\n",
      "Price : 0.03629732546022925\n",
      "Number_of_rooms : 0.03519740650688897\n",
      "Living_Area : 0.08527266411948593\n",
      "Fully_equipped_kitchen : 0.2778163714252634\n",
      "Furnished : 0.22467291883755933\n",
      "Terrace : 0.33952761375477597\n",
      "Terrace_Area : 0.5732314461039713\n",
      "Garden : 0.6317587125159199\n",
      "Garden_Area : 0.7594072015746208\n",
      "Surface_area_of_the_plot_of_land : 0.465728841032766\n",
      "Number_of_facades : 0.27127474817645014\n",
      "Swimming_pool : 0.45785573694569875\n",
      "State_of_the_building : 0.2191154335996295\n"
     ]
    }
   ],
   "source": [
    "print(\"percentage of missing values for each columns\")\n",
    "for column in col_names:\n",
    "    perc =  df_final[column].isnull().sum() / num_lines\n",
    "    if perc>0:\n",
    "        print(column, \":\", perc)"
   ]
  },
  {
   "cell_type": "markdown",
   "id": "8d337db0-b435-488a-a6be-2057b6622361",
   "metadata": {},
   "source": [
    "The above values gives us the percentage of missing entries for each columns\n",
    "* Terrace_area and garden_area have high values, it can be explained because some houses do not have garden/terrace\n",
    "* Fully_equipped_kitchen, Furnished, Terrace, Garden, Swimming_pool has high values, we could guess that when there is nothing given the value is False, especially for Garden and terrace where the only unique values are True and NaN\n",
    "* state_of_the_building, Number_of_facade have high values, we could look deeper if it causes problem\n",
    "* Surface_area_of_the_plot_of_land has a really high value, we should be carrefulll with it after"
   ]
  }
 ],
 "metadata": {
  "kernelspec": {
   "display_name": "Python 3 (ipykernel)",
   "language": "python",
   "name": "python3"
  },
  "language_info": {
   "codemirror_mode": {
    "name": "ipython",
    "version": 3
   },
   "file_extension": ".py",
   "mimetype": "text/x-python",
   "name": "python",
   "nbconvert_exporter": "python",
   "pygments_lexer": "ipython3",
   "version": "3.8.15"
  }
 },
 "nbformat": 4,
 "nbformat_minor": 5
}
