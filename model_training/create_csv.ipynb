{
 "cells": [
  {
   "attachments": {},
   "cell_type": "markdown",
   "metadata": {},
   "source": [
    "on this file we will create one CSV file from all the cv we have scrapped. Also columns that can be deleted will be deleted (see analysis) "
   ]
  },
  {
   "cell_type": "code",
   "execution_count": 1,
   "metadata": {},
   "outputs": [
    {
     "name": "stderr",
     "output_type": "stream",
     "text": [
      "<frozen importlib._bootstrap>:219: RuntimeWarning: scipy._lib.messagestream.MessageStream size changed, may indicate binary incompatibility. Expected 56 from C header, got 64 from PyObject\n"
     ]
    }
   ],
   "source": [
    "import os\n",
    "import warnings\n",
    "import pandas as pd\n",
    "from sklearn.impute import SimpleImputer\n",
    "from sklearn.model_selection import train_test_split"
   ]
  },
  {
   "cell_type": "code",
   "execution_count": 2,
   "metadata": {},
   "outputs": [],
   "source": [
    "# panda data frame containing every infos\n",
    "col_names = [\n",
    "    \"Locality\",\n",
    "    \"Type_of_property\",\n",
    "    \"Subtype_of_property\",\n",
    "    \"Price\",\n",
    "    \"Type_of_sale\",\n",
    "    \"Number_of_rooms\",\n",
    "    \"Living_Area\",\n",
    "    \"Fully_equipped_kitchen\",\n",
    "    \"Furnished\",\n",
    "    \"Open_fire\",\n",
    "    \"Terrace\",\n",
    "    \"Terrace_Area\",\n",
    "    \"Garden\",\n",
    "    \"Garden_Area\",\n",
    "    \"Surface_of_the_land\",\n",
    "    \"Surface_area_of_the_plot_of_land\",\n",
    "    \"Number_of_facades\",\n",
    "    \"Swimming_pool\",\n",
    "    \"State_of_the_building\",\n",
    "]\n",
    "df_final = pd.DataFrame(columns=col_names)"
   ]
  },
  {
   "cell_type": "code",
   "execution_count": 4,
   "metadata": {},
   "outputs": [],
   "source": [
    "def create_df():\n",
    "    \"\"\"\n",
    "    create a dataframe from all the csv we created\n",
    "    \"\"\"\n",
    "    # List all files in the directory\n",
    "    global df_final\n",
    "    df_final = pd.DataFrame(columns=col_names)\n",
    "\n",
    "    # path = \"./all_csv\"\n",
    "    path = r\"C:\\Users\\Sacha\\Documents\\BeCode\\real-estate-price-prediction\\data_acquisition\\all_csv\"\n",
    "    files = os.listdir(path)\n",
    "\n",
    "    for file in files:\n",
    "        if os.path.isfile(os.path.join(path, file)):\n",
    "            file_path = (\n",
    "                r\"C:\\Users\\Sacha\\Documents\\BeCode\\real-estate-price-prediction\\data_acquisition\\all_csv\\\\\"\n",
    "                + file\n",
    "            )\n",
    "            file_df = pd.read_csv(file_path)\n",
    "            with warnings.catch_warnings():  # warnings from panda because columns with only bool\n",
    "                warnings.simplefilter(\"ignore\")\n",
    "                df_final = pd.concat([df_final, file_df])"
   ]
  },
  {
   "cell_type": "code",
   "execution_count": 5,
   "metadata": {},
   "outputs": [],
   "source": [
    "def del_columns():\n",
    "    \"\"\"\n",
    "    this function clean the data a first time, it will delete useless lines or columns\n",
    "    \"\"\"\n",
    "    global df_final\n",
    "    # remove the useless collumn\n",
    "    del df_final[\"Surface_of_the_land\"]\n",
    "\n",
    "    # this line will drop lines where Price or the living area is missing\n",
    "    df_final = df_final.dropna(subset=[\"Price\"])\n",
    "    df_final = df_final.dropna(subset=[\"Living_Area\"])\n",
    "\n",
    "    # drop lines full of nan\n",
    "    df_final = df_final.dropna(how=\"all\")\n",
    "\n",
    "    # this collumn is the indexes of the dataframe collumn (too much)\n",
    "    df_final = df_final.drop(df_final.columns[-1], axis=1)\n",
    "\n",
    "    # we only keep residential sales\n",
    "    df_final = df_final[df_final[\"Type_of_sale\"] == \"residential_sale\"]\n",
    "    del df_final[\"Type_of_sale\"]\n",
    "\n",
    "    # drop this column, too correlated\n",
    "    del df_final[\"Surface_area_of_the_plot_of_land\"]\n",
    "\n",
    "    # Garden and terrace are only nan or true, no false and information in the garden/terrace area\n",
    "    del df_final[\"Garden\"]\n",
    "    del df_final[\"Terrace\"]\n",
    "    df_final[\"Garden_Area\"] = df_final[\"Garden_Area\"].fillna(0)\n",
    "    df_final[\"Terrace_Area\"] = df_final[\"Terrace_Area\"].fillna(0)\n",
    "\n",
    "    # drop collumns that seems useless\n",
    "    del df_final[\"Fully_equipped_kitchen\"]\n",
    "    del df_final[\"Furnished\"]\n",
    "\n",
    "    # remove_duplicates\n",
    "    df_final = df_final.drop_duplicates()"
   ]
  },
  {
   "cell_type": "code",
   "execution_count": 6,
   "metadata": {},
   "outputs": [],
   "source": [
    "def save_df():\n",
    "    \"\"\"\n",
    "    save tthe global df into a csv\n",
    "    \"\"\"\n",
    "    global df_final\n",
    "    df_final.to_csv(\"ready_to_learn_csv.csv\", index=False)"
   ]
  },
  {
   "cell_type": "code",
   "execution_count": 7,
   "metadata": {},
   "outputs": [],
   "source": [
    "create_df()\n",
    "del_columns()\n",
    "save_df()"
   ]
  }
 ],
 "metadata": {
  "kernelspec": {
   "display_name": "BeCode_env",
   "language": "python",
   "name": "python3"
  },
  "language_info": {
   "codemirror_mode": {
    "name": "ipython",
    "version": 3
   },
   "file_extension": ".py",
   "mimetype": "text/x-python",
   "name": "python",
   "nbconvert_exporter": "python",
   "pygments_lexer": "ipython3",
   "version": "3.8.15 (default, Nov 24 2022, 14:38:14) [MSC v.1916 64 bit (AMD64)]"
  },
  "orig_nbformat": 4,
  "vscode": {
   "interpreter": {
    "hash": "527d3136a15c09fb94e6304e1a4ef36802614441d5a4ed619fba2891eaa8d1fb"
   }
  }
 },
 "nbformat": 4,
 "nbformat_minor": 2
}
